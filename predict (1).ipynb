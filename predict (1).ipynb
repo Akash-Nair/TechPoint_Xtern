{
  "cells": [
    {
      "cell_type": "code",
      "execution_count": null,
      "metadata": {
        "id": "-Fy60fqL_v7L"
      },
      "outputs": [],
      "source": [
        "import pandas as pd\n",
        "import numpy as np"
      ]
    },
    {
      "cell_type": "code",
      "execution_count": null,
      "metadata": {
        "id": "atOOaO4f_v7O"
      },
      "outputs": [],
      "source": [
        "xls = pd.ExcelFile(\"XTern 2024 Artificial Intelegence Data Set.xlsx\")\n",
        "df_menu = pd.read_excel(xls, sheet_name='Menu')\n",
        "df_data = pd.read_excel(xls, sheet_name='Xtern_TrainData')"
      ]
    },
    {
      "cell_type": "markdown",
      "metadata": {
        "id": "HXvRO8f1_v7P"
      },
      "source": [
        "Data Distributions and biases"
      ]
    },
    {
      "cell_type": "code",
      "execution_count": null,
      "metadata": {
        "id": "9laaicks_v7R",
        "outputId": "67060c2c-3940-46fb-c4d7-6aa716b5d325"
      },
      "outputs": [
        {
          "data": {
            "text/plain": [
              "Time\n",
              "13    1316\n",
              "12    1314\n",
              "14     883\n",
              "11     857\n",
              "15     282\n",
              "10     247\n",
              "16      49\n",
              "9       40\n",
              "8        8\n",
              "17       4\n",
              "Name: count, dtype: int64"
            ]
          },
          "execution_count": 30,
          "metadata": {},
          "output_type": "execute_result"
        }
      ],
      "source": [
        "df_data.Time.value_counts()"
      ]
    },
    {
      "cell_type": "code",
      "execution_count": null,
      "metadata": {
        "id": "5pLA3tjO_v7S",
        "outputId": "5c1c4715-1508-4c8f-eeeb-184c7976bcb5"
      },
      "outputs": [
        {
          "data": {
            "text/plain": [
              "Order\n",
              "Sugar Cream Pie                                             512\n",
              "Indiana Pork Chili                                          510\n",
              "Cornbread Hush Puppies                                      510\n",
              "Sweet Potato Fries                                          508\n",
              "Ultimate Grilled Cheese Sandwich (with bacon and tomato)    503\n",
              "Indiana Buffalo Chicken Tacos (3 tacos)                     496\n",
              "Indiana Corn on the Cob (brushed with garlic butter)        495\n",
              "Breaded Pork Tenderloin Sandwich                            494\n",
              "Fried Catfish Basket                                        490\n",
              "Hoosier BBQ Pulled Pork Sandwich                            482\n",
              "Name: count, dtype: int64"
            ]
          },
          "execution_count": 16,
          "metadata": {},
          "output_type": "execute_result"
        }
      ],
      "source": [
        "df_data.Order.value_counts()"
      ]
    },
    {
      "cell_type": "code",
      "execution_count": null,
      "metadata": {
        "id": "lK3rDO8T_v7T",
        "outputId": "4bcfe56b-f650-4fb6-c5c2-5f23bd17f7fb"
      },
      "outputs": [
        {
          "data": {
            "text/plain": [
              "University\n",
              "Butler University                                            1614\n",
              "Indiana State University                                     1309\n",
              "Ball State University                                        1085\n",
              "Indiana University-Purdue University Indianapolis (IUPUI)     682\n",
              "University of Notre Dame                                      144\n",
              "University of Evansville                                      143\n",
              "Indiana University Bloomington                                 12\n",
              "Valparaiso University                                           9\n",
              "Purdue University                                               1\n",
              "DePauw University                                               1\n",
              "Name: count, dtype: int64"
            ]
          },
          "execution_count": 29,
          "metadata": {},
          "output_type": "execute_result"
        }
      ],
      "source": [
        "df_data.University.value_counts()"
      ]
    },
    {
      "cell_type": "code",
      "execution_count": null,
      "metadata": {
        "id": "WUrjjYZf_v7T",
        "outputId": "8be3f39c-757d-4295-d7c1-10bea097399c"
      },
      "outputs": [
        {
          "data": {
            "text/plain": [
              "Major\n",
              "Chemistry                  640\n",
              "Biology                    635\n",
              "Astronomy                  619\n",
              "Physics                    610\n",
              "Mathematics                582\n",
              "Economics                  511\n",
              "Business Administration    334\n",
              "Political Science          309\n",
              "Marketing                  239\n",
              "Anthropology               146\n",
              "Finance                    135\n",
              "Psychology                  76\n",
              "Accounting                  62\n",
              "Sociology                   31\n",
              "International Business      29\n",
              "Music                       21\n",
              "Mechanical Engineering      11\n",
              "Philosophy                   4\n",
              "Fine Arts                    3\n",
              "Civil Engineering            3\n",
              "Name: count, dtype: int64"
            ]
          },
          "execution_count": 28,
          "metadata": {},
          "output_type": "execute_result"
        }
      ],
      "source": [
        "df_data.Major.value_counts()"
      ]
    },
    {
      "cell_type": "code",
      "execution_count": null,
      "metadata": {
        "id": "wSoT5uN9_v7U",
        "outputId": "a6a2189a-a31e-44ca-ee0d-d723fd616ed6"
      },
      "outputs": [
        {
          "data": {
            "text/plain": [
              "Year\n",
              "Year 3    2719\n",
              "Year 2    2273\n",
              "Year 1       5\n",
              "Year 4       3\n",
              "Name: count, dtype: int64"
            ]
          },
          "execution_count": 26,
          "metadata": {},
          "output_type": "execute_result"
        }
      ],
      "source": [
        "df_data.Year.value_counts()"
      ]
    },
    {
      "cell_type": "markdown",
      "metadata": {
        "id": "bXviRSUO_v7U"
      },
      "source": [
        "Correlation between features"
      ]
    },
    {
      "cell_type": "code",
      "execution_count": null,
      "metadata": {
        "id": "QJ75gt4W_v7V",
        "outputId": "a0ef41c6-8431-43a4-d70c-82228721d165"
      },
      "outputs": [
        {
          "data": {
            "text/html": [
              "<div>\n",
              "<style scoped>\n",
              "    .dataframe tbody tr th:only-of-type {\n",
              "        vertical-align: middle;\n",
              "    }\n",
              "\n",
              "    .dataframe tbody tr th {\n",
              "        vertical-align: top;\n",
              "    }\n",
              "\n",
              "    .dataframe thead th {\n",
              "        text-align: right;\n",
              "    }\n",
              "</style>\n",
              "<table border=\"1\" class=\"dataframe\">\n",
              "  <thead>\n",
              "    <tr style=\"text-align: right;\">\n",
              "      <th></th>\n",
              "      <th>Year</th>\n",
              "      <th>Major</th>\n",
              "      <th>University</th>\n",
              "      <th>Time</th>\n",
              "      <th>Order</th>\n",
              "      <th>Price</th>\n",
              "      <th>Calories</th>\n",
              "    </tr>\n",
              "  </thead>\n",
              "  <tbody>\n",
              "    <tr>\n",
              "      <th>Year</th>\n",
              "      <td>1.000000</td>\n",
              "      <td>-0.007961</td>\n",
              "      <td>0.022057</td>\n",
              "      <td>-0.015790</td>\n",
              "      <td>-0.114357</td>\n",
              "      <td>-0.241214</td>\n",
              "      <td>-0.225594</td>\n",
              "    </tr>\n",
              "    <tr>\n",
              "      <th>Major</th>\n",
              "      <td>-0.007961</td>\n",
              "      <td>1.000000</td>\n",
              "      <td>0.030750</td>\n",
              "      <td>-0.000367</td>\n",
              "      <td>0.018405</td>\n",
              "      <td>-0.005382</td>\n",
              "      <td>0.046920</td>\n",
              "    </tr>\n",
              "    <tr>\n",
              "      <th>University</th>\n",
              "      <td>0.022057</td>\n",
              "      <td>0.030750</td>\n",
              "      <td>1.000000</td>\n",
              "      <td>0.166331</td>\n",
              "      <td>-0.077829</td>\n",
              "      <td>0.135870</td>\n",
              "      <td>0.040146</td>\n",
              "    </tr>\n",
              "    <tr>\n",
              "      <th>Time</th>\n",
              "      <td>-0.015790</td>\n",
              "      <td>-0.000367</td>\n",
              "      <td>0.166331</td>\n",
              "      <td>1.000000</td>\n",
              "      <td>0.368199</td>\n",
              "      <td>-0.074387</td>\n",
              "      <td>0.042094</td>\n",
              "    </tr>\n",
              "    <tr>\n",
              "      <th>Order</th>\n",
              "      <td>-0.114357</td>\n",
              "      <td>0.018405</td>\n",
              "      <td>-0.077829</td>\n",
              "      <td>0.368199</td>\n",
              "      <td>1.000000</td>\n",
              "      <td>-0.541145</td>\n",
              "      <td>-0.267208</td>\n",
              "    </tr>\n",
              "    <tr>\n",
              "      <th>Price</th>\n",
              "      <td>-0.241214</td>\n",
              "      <td>-0.005382</td>\n",
              "      <td>0.135870</td>\n",
              "      <td>-0.074387</td>\n",
              "      <td>-0.541145</td>\n",
              "      <td>1.000000</td>\n",
              "      <td>0.740146</td>\n",
              "    </tr>\n",
              "    <tr>\n",
              "      <th>Calories</th>\n",
              "      <td>-0.225594</td>\n",
              "      <td>0.046920</td>\n",
              "      <td>0.040146</td>\n",
              "      <td>0.042094</td>\n",
              "      <td>-0.267208</td>\n",
              "      <td>0.740146</td>\n",
              "      <td>1.000000</td>\n",
              "    </tr>\n",
              "  </tbody>\n",
              "</table>\n",
              "</div>"
            ],
            "text/plain": [
              "                Year     Major  University      Time     Order     Price  \\\n",
              "Year        1.000000 -0.007961    0.022057 -0.015790 -0.114357 -0.241214   \n",
              "Major      -0.007961  1.000000    0.030750 -0.000367  0.018405 -0.005382   \n",
              "University  0.022057  0.030750    1.000000  0.166331 -0.077829  0.135870   \n",
              "Time       -0.015790 -0.000367    0.166331  1.000000  0.368199 -0.074387   \n",
              "Order      -0.114357  0.018405   -0.077829  0.368199  1.000000 -0.541145   \n",
              "Price      -0.241214 -0.005382    0.135870 -0.074387 -0.541145  1.000000   \n",
              "Calories   -0.225594  0.046920    0.040146  0.042094 -0.267208  0.740146   \n",
              "\n",
              "            Calories  \n",
              "Year       -0.225594  \n",
              "Major       0.046920  \n",
              "University  0.040146  \n",
              "Time        0.042094  \n",
              "Order      -0.267208  \n",
              "Price       0.740146  \n",
              "Calories    1.000000  "
            ]
          },
          "execution_count": 45,
          "metadata": {},
          "output_type": "execute_result"
        }
      ],
      "source": [
        "merged_df = df_data.merge(df_menu[['Item', 'Price', 'Calories']], left_on='Order', right_on='Item', how='left')\n",
        "merged_df.drop('Item', axis=1, inplace=True)\n",
        "enc = LabelEncoder()\n",
        "train_data = merged_df.apply(enc.fit_transform)\n",
        "train_data.corr()"
      ]
    },
    {
      "cell_type": "markdown",
      "metadata": {
        "id": "vHQdMuBK_v7W"
      },
      "source": [
        "Business insights"
      ]
    },
    {
      "cell_type": "code",
      "execution_count": null,
      "metadata": {
        "id": "9unM5il1_v7W",
        "outputId": "d56065bf-62f1-4044-ce31-59ff8a0df8ea"
      },
      "outputs": [
        {
          "data": {
            "text/plain": [
              "<Axes: ylabel='Frequency'>"
            ]
          },
          "execution_count": 39,
          "metadata": {},
          "output_type": "execute_result"
        },
        {
          "data": {
            "image/png": "[encoded data removed]",
            "text/plain": [
              "<Figure size 640x480 with 1 Axes>"
            ]
          },
          "metadata": {},
          "output_type": "display_data"
        }
      ],
      "source": [
        "# Highest Order Times\n",
        "df_data.Time.plot.hist()"
      ]
    },
    {
      "cell_type": "code",
      "execution_count": null,
      "metadata": {
        "id": "H9CWXIsD_v7X",
        "outputId": "8b095ef9-fa3b-4f3f-d594-5858adb71bcb"
      },
      "outputs": [
        {
          "data": {
            "text/plain": [
              "array([<Axes: title={'center': 'Year 1'}, ylabel='Frequency'>,\n",
              "       <Axes: title={'center': 'Year 2'}, ylabel='Frequency'>,\n",
              "       <Axes: title={'center': 'Year 3'}, ylabel='Frequency'>,\n",
              "       <Axes: title={'center': 'Year 4'}, ylabel='Frequency'>],\n",
              "      dtype=object)"
            ]
          },
          "execution_count": 57,
          "metadata": {},
          "output_type": "execute_result"
        },
        {
          "data": {
            "image/png": "[encoded data removed]",
            "text/plain": [
              "<Figure size 1000x800 with 4 Axes>"
            ]
          },
          "metadata": {},
          "output_type": "display_data"
        }
      ],
      "source": [
        "merged_df[['Time', 'Year']].plot.hist(by='Year', figsize=(10,8))"
      ]
    },
    {
      "cell_type": "code",
      "execution_count": null,
      "metadata": {
        "id": "YeBXRN-Y_v7Y",
        "outputId": "764328ff-ac58-4acb-908e-c337879be297"
      },
      "outputs": [
        {
          "data": {
            "text/html": [
              "<div>\n",
              "<style scoped>\n",
              "    .dataframe tbody tr th:only-of-type {\n",
              "        vertical-align: middle;\n",
              "    }\n",
              "\n",
              "    .dataframe tbody tr th {\n",
              "        vertical-align: top;\n",
              "    }\n",
              "\n",
              "    .dataframe thead th {\n",
              "        text-align: right;\n",
              "    }\n",
              "</style>\n",
              "<table border=\"1\" class=\"dataframe\">\n",
              "  <thead>\n",
              "    <tr style=\"text-align: right;\">\n",
              "      <th></th>\n",
              "      <th>Year</th>\n",
              "      <th>Major</th>\n",
              "      <th>University</th>\n",
              "      <th>Time</th>\n",
              "      <th>Order</th>\n",
              "      <th>Price</th>\n",
              "      <th>Calories</th>\n",
              "    </tr>\n",
              "  </thead>\n",
              "  <tbody>\n",
              "    <tr>\n",
              "      <th>0</th>\n",
              "      <td>1</td>\n",
              "      <td>16</td>\n",
              "      <td>3</td>\n",
              "      <td>4</td>\n",
              "      <td>2</td>\n",
              "      <td>7</td>\n",
              "      <td>7</td>\n",
              "    </tr>\n",
              "    <tr>\n",
              "      <th>1</th>\n",
              "      <td>2</td>\n",
              "      <td>5</td>\n",
              "      <td>0</td>\n",
              "      <td>6</td>\n",
              "      <td>7</td>\n",
              "      <td>1</td>\n",
              "      <td>5</td>\n",
              "    </tr>\n",
              "    <tr>\n",
              "      <th>2</th>\n",
              "      <td>2</td>\n",
              "      <td>5</td>\n",
              "      <td>1</td>\n",
              "      <td>4</td>\n",
              "      <td>6</td>\n",
              "      <td>4</td>\n",
              "      <td>3</td>\n",
              "    </tr>\n",
              "    <tr>\n",
              "      <th>3</th>\n",
              "      <td>1</td>\n",
              "      <td>3</td>\n",
              "      <td>3</td>\n",
              "      <td>3</td>\n",
              "      <td>2</td>\n",
              "      <td>7</td>\n",
              "      <td>7</td>\n",
              "    </tr>\n",
              "    <tr>\n",
              "      <th>4</th>\n",
              "      <td>2</td>\n",
              "      <td>4</td>\n",
              "      <td>1</td>\n",
              "      <td>4</td>\n",
              "      <td>5</td>\n",
              "      <td>0</td>\n",
              "      <td>0</td>\n",
              "    </tr>\n",
              "    <tr>\n",
              "      <th>...</th>\n",
              "      <td>...</td>\n",
              "      <td>...</td>\n",
              "      <td>...</td>\n",
              "      <td>...</td>\n",
              "      <td>...</td>\n",
              "      <td>...</td>\n",
              "      <td>...</td>\n",
              "    </tr>\n",
              "    <tr>\n",
              "      <th>4995</th>\n",
              "      <td>1</td>\n",
              "      <td>12</td>\n",
              "      <td>0</td>\n",
              "      <td>3</td>\n",
              "      <td>0</td>\n",
              "      <td>6</td>\n",
              "      <td>6</td>\n",
              "    </tr>\n",
              "    <tr>\n",
              "      <th>4996</th>\n",
              "      <td>2</td>\n",
              "      <td>2</td>\n",
              "      <td>3</td>\n",
              "      <td>4</td>\n",
              "      <td>9</td>\n",
              "      <td>3</td>\n",
              "      <td>5</td>\n",
              "    </tr>\n",
              "    <tr>\n",
              "      <th>4997</th>\n",
              "      <td>2</td>\n",
              "      <td>5</td>\n",
              "      <td>1</td>\n",
              "      <td>5</td>\n",
              "      <td>7</td>\n",
              "      <td>1</td>\n",
              "      <td>5</td>\n",
              "    </tr>\n",
              "    <tr>\n",
              "      <th>4998</th>\n",
              "      <td>2</td>\n",
              "      <td>2</td>\n",
              "      <td>1</td>\n",
              "      <td>7</td>\n",
              "      <td>7</td>\n",
              "      <td>1</td>\n",
              "      <td>5</td>\n",
              "    </tr>\n",
              "    <tr>\n",
              "      <th>4999</th>\n",
              "      <td>1</td>\n",
              "      <td>7</td>\n",
              "      <td>8</td>\n",
              "      <td>7</td>\n",
              "      <td>0</td>\n",
              "      <td>6</td>\n",
              "      <td>6</td>\n",
              "    </tr>\n",
              "  </tbody>\n",
              "</table>\n",
              "<p>5000 rows × 7 columns</p>\n",
              "</div>"
            ],
            "text/plain": [
              "      Year  Major  University  Time  Order  Price  Calories\n",
              "0        1     16           3     4      2      7         7\n",
              "1        2      5           0     6      7      1         5\n",
              "2        2      5           1     4      6      4         3\n",
              "3        1      3           3     3      2      7         7\n",
              "4        2      4           1     4      5      0         0\n",
              "...    ...    ...         ...   ...    ...    ...       ...\n",
              "4995     1     12           0     3      0      6         6\n",
              "4996     2      2           3     4      9      3         5\n",
              "4997     2      5           1     5      7      1         5\n",
              "4998     2      2           1     7      7      1         5\n",
              "4999     1      7           8     7      0      6         6\n",
              "\n",
              "[5000 rows x 7 columns]"
            ]
          },
          "execution_count": 58,
          "metadata": {},
          "output_type": "execute_result"
        }
      ],
      "source": [
        "train_data"
      ]
    },
    {
      "cell_type": "markdown",
      "source": [
        "**Implications of Data Collection, Storage, and Data Biases in FoodX Promotion:**\n",
        "\n",
        "**1. Ethical Implications:**\n",
        "   - **Privacy Concerns:** Collecting student data raises privacy concerns. It's crucial to obtain explicit consent, ensuring transparency about how their data will be used and stored.\n",
        "   - **Data Security:** Safeguarding this data is paramount. Implement robust security measures to prevent unauthorized access or breaches, ensuring customer trust and compliance with data protection laws.\n",
        "\n",
        "**2. Business Outcome Implications:**\n",
        "   - **Customer Trust:** Respecting privacy enhances customer trust. Transparent data practices can bolster FoodX's reputation, leading to customer loyalty and positive word-of-mouth, driving long-term business growth.\n",
        "   - **Legal Compliance:** Adhering to data protection regulations is non-negotiable. Compliance avoids legal issues, potential fines, and damage to the brand’s image, safeguarding FoodX’s business continuity.\n",
        "\n",
        "**3. Technical Implications:**\n",
        "   - **Algorithm Bias:** AI algorithms might inherit biases present in the training data. Regular audits and adjustments are vital to mitigate biases, ensuring fair and accurate predictions.\n",
        "   - **Data Accuracy:** Reliable predictions rely on accurate data. Implement data validation processes and maintain data integrity to enhance the AI's effectiveness in guessing orders.\n",
        "   - **Scalability:** As FoodX expands, the system must handle increasing data volumes efficiently. Scalable infrastructure and algorithms are necessary to maintain performance and accuracy with a growing user base.\n",
        "\n",
        "By addressing these ethical, business, and technical implications, FoodX can not only ensure the responsible use of student data but also optimize the accuracy and efficiency of its order prediction system, leading to enhanced customer satisfaction and sustainable business growth."
      ],
      "metadata": {
        "id": "Zc-uZB0xGvhJ"
      }
    },
    {
      "cell_type": "code",
      "execution_count": null,
      "metadata": {
        "id": "50npU6hp_v7Y"
      },
      "outputs": [],
      "source": [
        "y = train_data['Order']\n",
        "X = train_data.drop(['Order', 'Price', 'Calories'], axis=1)"
      ]
    },
    {
      "cell_type": "code",
      "execution_count": null,
      "metadata": {
        "id": "pdbMpsRt_v7Z",
        "outputId": "bf32e3a7-5039-45c8-eb9b-9b0b677e0544"
      },
      "outputs": [
        {
          "name": "stdout",
          "output_type": "stream",
          "text": [
            "Accuracy: 0.64\n",
            "              precision    recall  f1-score   support\n",
            "\n",
            "           0       0.52      0.48      0.50       147\n",
            "           1       0.59      0.58      0.58       164\n",
            "           2       0.73      0.61      0.66       155\n",
            "           3       0.64      0.68      0.66       154\n",
            "           4       0.52      0.60      0.56       126\n",
            "           5       0.70      0.81      0.75       137\n",
            "           6       0.75      0.85      0.80       142\n",
            "           7       0.62      0.59      0.60       160\n",
            "           8       0.66      0.55      0.60       165\n",
            "           9       0.66      0.67      0.67       150\n",
            "\n",
            "    accuracy                           0.64      1500\n",
            "   macro avg       0.64      0.64      0.64      1500\n",
            "weighted avg       0.64      0.64      0.64      1500\n",
            "\n"
          ]
        }
      ],
      "source": [
        "from sklearn.model_selection import train_test_split\n",
        "from sklearn.tree import DecisionTreeClassifier, plot_tree\n",
        "from sklearn.metrics import accuracy_score, classification_report\n",
        "\n",
        "X_train, X_test, y_train, y_test = train_test_split(X, y, test_size=0.3, random_state=42)\n",
        "\n",
        "clf = DecisionTreeClassifier(random_state=4)\n",
        "clf.fit(X_train, y_train)\n",
        "\n",
        "y_pred = clf.predict(X_test)\n",
        "\n",
        "accuracy = accuracy_score(y_test, y_pred)\n",
        "print(f\"Accuracy: {accuracy:.2f}\")\n",
        "\n",
        "report = classification_report(y_test, y_pred)\n",
        "print(report)\n"
      ]
    },
    {
      "cell_type": "code",
      "execution_count": null,
      "metadata": {
        "id": "fdThCO0T_v7Z",
        "outputId": "ff65de1b-5730-450a-a4cf-609d3d5a44be"
      },
      "outputs": [
        {
          "name": "stdout",
          "output_type": "stream",
          "text": [
            "Accuracy: 0.64\n"
          ]
        }
      ],
      "source": [
        "from sklearn.ensemble import RandomForestClassifier\n",
        "\n",
        "# Create a Random Forest classifier\n",
        "clf = RandomForestClassifier(random_state=42)\n",
        "\n",
        "# Fit the model\n",
        "clf.fit(X_train, y_train)\n",
        "\n",
        "# Make predictions\n",
        "y_pred = clf.predict(X_test)\n",
        "\n",
        "# Evaluate the model\n",
        "accuracy = accuracy_score(y_test, y_pred)\n",
        "print(f\"Accuracy: {accuracy:.2f}\")\n"
      ]
    },
    {
      "cell_type": "code",
      "execution_count": null,
      "metadata": {
        "id": "5bTNvR8L_v7a",
        "outputId": "5b81e10c-9b36-4fd3-f931-e0f872751013"
      },
      "outputs": [
        {
          "name": "stdout",
          "output_type": "stream",
          "text": [
            "Accuracy: 0.53\n"
          ]
        }
      ],
      "source": [
        "from sklearn.svm import SVC\n",
        "\n",
        "# Create an SVM classifier\n",
        "clf = SVC(kernel='rbf', random_state=42)  # You can change the kernel and C value as needed\n",
        "\n",
        "# Fit the model\n",
        "clf.fit(X_train, y_train)\n",
        "\n",
        "# Make predictions\n",
        "y_pred = clf.predict(X_test)\n",
        "\n",
        "# Evaluate the model\n",
        "accuracy = accuracy_score(y_test, y_pred)\n",
        "print(f\"Accuracy: {accuracy:.2f}\")\n"
      ]
    },
    {
      "cell_type": "code",
      "execution_count": null,
      "metadata": {
        "id": "ZylFKYws_v7a",
        "outputId": "0583885a-661a-42f2-ae05-f394245b2c36"
      },
      "outputs": [
        {
          "name": "stdout",
          "output_type": "stream",
          "text": [
            "KNN Classifier Accuracy: 0.59\n"
          ]
        }
      ],
      "source": [
        "from sklearn.neighbors import KNeighborsClassifier\n",
        "\n",
        "# Create a KNN classifier\n",
        "clf = KNeighborsClassifier(n_neighbors=5)  # You can adjust the number of neighbors (n_neighbors)\n",
        "\n",
        "# Fit the model\n",
        "clf.fit(X_train, y_train)\n",
        "\n",
        "# Make predictions\n",
        "y_pred = clf.predict(X_test)\n",
        "\n",
        "# Evaluate the model\n",
        "accuracy = accuracy_score(y_test, y_pred)\n",
        "print(f\"KNN Classifier Accuracy: {accuracy:.2f}\")\n"
      ]
    },
    {
      "cell_type": "code",
      "execution_count": null,
      "metadata": {
        "id": "hdOZo6DJ_v7a",
        "outputId": "e27450a7-c106-4940-cf0b-0e706f0d0233"
      },
      "outputs": [
        {
          "name": "stdout",
          "output_type": "stream",
          "text": [
            "Logistic Regression Accuracy: 0.43\n"
          ]
        },
        {
          "name": "stderr",
          "output_type": "stream",
          "text": [
            "d:\\Files\\Documents\\Projects\\Recommendations\\.venv\\lib\\site-packages\\sklearn\\linear_model\\_logistic.py:460: ConvergenceWarning: lbfgs failed to converge (status=1):\n",
            "STOP: TOTAL NO. of ITERATIONS REACHED LIMIT.\n",
            "\n",
            "Increase the number of iterations (max_iter) or scale the data as shown in:\n",
            "    https://scikit-learn.org/stable/modules/preprocessing.html\n",
            "Please also refer to the documentation for alternative solver options:\n",
            "    https://scikit-learn.org/stable/modules/linear_model.html#logistic-regression\n",
            "  n_iter_i = _check_optimize_result(\n"
          ]
        }
      ],
      "source": [
        "from sklearn.linear_model import LogisticRegression\n",
        "\n",
        "# Create a Logistic Regression classifier\n",
        "clf = LogisticRegression()\n",
        "\n",
        "# Fit the model\n",
        "clf.fit(X_train, y_train)\n",
        "\n",
        "# Make predictions\n",
        "y_pred = clf.predict(X_test)\n",
        "\n",
        "# Evaluate the model\n",
        "accuracy = accuracy_score(y_test, y_pred)\n",
        "print(f\"Logistic Regression Accuracy: {accuracy:.2f}\")\n"
      ]
    },
    {
      "cell_type": "code",
      "execution_count": null,
      "metadata": {
        "id": "qNlJUGjj_v7b",
        "outputId": "5b377311-b116-4ceb-8572-949167d86ef5"
      },
      "outputs": [
        {
          "name": "stdout",
          "output_type": "stream",
          "text": [
            "Gaussian Naive Bayes Accuracy: 0.49\n"
          ]
        }
      ],
      "source": [
        "from sklearn.naive_bayes import GaussianNB\n",
        "\n",
        "# Create a Gaussian Naive Bayes classifier\n",
        "clf = GaussianNB()\n",
        "\n",
        "# Fit the model\n",
        "clf.fit(X_train, y_train)\n",
        "\n",
        "# Make predictions\n",
        "y_pred = clf.predict(X_test)\n",
        "\n",
        "# Evaluate the model\n",
        "accuracy = accuracy_score(y_test, y_pred)\n",
        "print(f\"Gaussian Naive Bayes Accuracy: {accuracy:.2f}\")\n"
      ]
    },
    {
      "cell_type": "code",
      "execution_count": null,
      "metadata": {
        "id": "DPEmLPWy_v7b",
        "outputId": "c613971c-c066-4fa5-80a5-77677e3df608"
      },
      "outputs": [
        {
          "name": "stdout",
          "output_type": "stream",
          "text": [
            "AdaBoostClassifier Accuracy: 0.38\n"
          ]
        }
      ],
      "source": [
        "from sklearn.ensemble import AdaBoostClassifier\n",
        "clf = AdaBoostClassifier()\n",
        "\n",
        "# Fit the model\n",
        "clf.fit(X_train, y_train)\n",
        "\n",
        "# Make predictions\n",
        "y_pred = clf.predict(X_test)\n",
        "\n",
        "# Evaluate the model\n",
        "accuracy = accuracy_score(y_test, y_pred)\n",
        "print(f\"AdaBoostClassifier Accuracy: {accuracy:.2f}\")"
      ]
    },
    {
      "cell_type": "code",
      "execution_count": null,
      "metadata": {
        "id": "reF8dJl0_v7b",
        "outputId": "4b3c1cf3-7fc2-4d23-f100-96db940b1d5a"
      },
      "outputs": [
        {
          "name": "stdout",
          "output_type": "stream",
          "text": [
            "LDA Classifier Accuracy: 0.44\n"
          ]
        }
      ],
      "source": [
        "from sklearn.discriminant_analysis import LinearDiscriminantAnalysis\n",
        "\n",
        "# Create an LDA classifier\n",
        "clf = LinearDiscriminantAnalysis()\n",
        "\n",
        "# Fit the model\n",
        "clf.fit(X_train, y_train)\n",
        "\n",
        "# Make predictions\n",
        "y_pred = clf.predict(X_test)\n",
        "\n",
        "# Evaluate the model\n",
        "accuracy = accuracy_score(y_test, y_pred)\n",
        "print(f\"LDA Classifier Accuracy: {accuracy:.2f}\")\n"
      ]
    },
    {
      "cell_type": "code",
      "execution_count": null,
      "metadata": {
        "id": "H94GA2Fq_v7c",
        "outputId": "6b0edc9c-b22a-4b3c-9ebb-18890e9c3964"
      },
      "outputs": [
        {
          "name": "stdout",
          "output_type": "stream",
          "text": [
            "MLP Classifier Accuracy: 0.53\n"
          ]
        },
        {
          "name": "stderr",
          "output_type": "stream",
          "text": [
            "d:\\Files\\Documents\\Projects\\Recommendations\\.venv\\lib\\site-packages\\sklearn\\neural_network\\_multilayer_perceptron.py:691: ConvergenceWarning: Stochastic Optimizer: Maximum iterations (100) reached and the optimization hasn't converged yet.\n",
            "  warnings.warn(\n"
          ]
        }
      ],
      "source": [
        "from sklearn.neural_network import MLPClassifier\n",
        "\n",
        "# Create an MLP classifier\n",
        "clf = MLPClassifier(hidden_layer_sizes=(100, ), max_iter=100, solver='adam', random_state=42)\n",
        "# You can adjust the hidden_layer_sizes and other parameters as needed\n",
        "\n",
        "# Fit the model\n",
        "clf.fit(X_train, y_train)\n",
        "\n",
        "# Make predictions\n",
        "y_pred = clf.predict(X_test)\n",
        "\n",
        "# Evaluate the model\n",
        "accuracy = accuracy_score(y_test, y_pred)\n",
        "print(f\"MLP Classifier Accuracy: {accuracy:.2f}\")\n"
      ]
    },
    {
      "cell_type": "code",
      "execution_count": null,
      "metadata": {
        "id": "Q2Yfso6f_v7c"
      },
      "outputs": [],
      "source": [
        "import pickle\n",
        "from datetime import datetime\n",
        "import os\n",
        "def save_model(clf):\n",
        "    filename = \"Model_\" + datetime.now().strftime('%Y-%m-%d__%H-%M') + '.pickle'\n",
        "    pickle.dump(clf, open(filename, \"wb\"))\n",
        "\n",
        "def load_model(filename):\n",
        "    if os.path.exists(filename):\n",
        "        loaded_model = pickle.load(open(filename, \"rb\"))\n",
        "    else:\n",
        "        load_model = None\n",
        "    return loaded_model"
      ]
    },
    {
      "cell_type": "code",
      "execution_count": null,
      "metadata": {
        "id": "Ex9Efyc1_v7c"
      },
      "outputs": [],
      "source": [
        "save_model(clf)"
      ]
    },
    {
      "cell_type": "markdown",
      "source": [
        "While building such an AI solution I will consider multiple factors such as technical feasibility, cost-effectiveness, data quality, ethical and legal compliance, user reception, scalability, performance measurements, and long-term sustainability."
      ],
      "metadata": {
        "id": "oglaA9tNMGup"
      }
    }
  ],
  "metadata": {
    "kernelspec": {
      "display_name": ".venv",
      "language": "python",
      "name": "python3"
    },
    "language_info": {
      "codemirror_mode": {
        "name": "ipython",
        "version": 3
      },
      "file_extension": ".py",
      "mimetype": "text/x-python",
      "name": "python",
      "nbconvert_exporter": "python",
      "pygments_lexer": "ipython3",
      "version": "3.9.1"
    },
    "colab": {
      "provenance": []
    }
  },
  "nbformat": 4,
  "nbformat_minor": 0
}